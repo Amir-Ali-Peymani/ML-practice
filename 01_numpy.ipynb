{
  "nbformat": 4,
  "nbformat_minor": 0,
  "metadata": {
    "colab": {
      "provenance": [],
      "toc_visible": true,
      "authorship_tag": "ABX9TyOe+B+wWCWBKV9HfRiwFTK1",
      "include_colab_link": true
    },
    "kernelspec": {
      "name": "python3",
      "display_name": "Python 3"
    },
    "language_info": {
      "name": "python"
    }
  },
  "cells": [
    {
      "cell_type": "markdown",
      "metadata": {
        "id": "view-in-github",
        "colab_type": "text"
      },
      "source": [
        "<a href=\"https://colab.research.google.com/github/Amir-Ali-Peymani/ML-practice/blob/main/01_numpy.ipynb\" target=\"_parent\"><img src=\"https://colab.research.google.com/assets/colab-badge.svg\" alt=\"Open In Colab\"/></a>"
      ]
    },
    {
      "cell_type": "markdown",
      "source": [
        "## importing numpy\n"
      ],
      "metadata": {
        "id": "H-vyhP4YAFnR"
      }
    },
    {
      "cell_type": "code",
      "source": [
        "import numpy as np"
      ],
      "metadata": {
        "id": "GqyFHY8zAENQ"
      },
      "execution_count": 1,
      "outputs": []
    },
    {
      "cell_type": "markdown",
      "source": [
        "Lets to some basic stuff"
      ],
      "metadata": {
        "id": "c_zPdG1byPyk"
      }
    },
    {
      "cell_type": "code",
      "source": [
        "a = np.arange(15)\n",
        "a"
      ],
      "metadata": {
        "id": "7NeLCFciANok",
        "colab": {
          "base_uri": "https://localhost:8080/"
        },
        "outputId": "67a8dd46-dbf1-4ec4-f922-08d7b29e9e61"
      },
      "execution_count": 4,
      "outputs": [
        {
          "output_type": "execute_result",
          "data": {
            "text/plain": [
              "array([ 0,  1,  2,  3,  4,  5,  6,  7,  8,  9, 10, 11, 12, 13, 14])"
            ]
          },
          "metadata": {},
          "execution_count": 4
        }
      ]
    },
    {
      "cell_type": "code",
      "source": [
        "a = a.reshape(3,5)\n",
        "a"
      ],
      "metadata": {
        "colab": {
          "base_uri": "https://localhost:8080/"
        },
        "id": "5mi05ROQzRxt",
        "outputId": "89e415e2-e5c5-4bfc-dc5c-be0f1415ef8b"
      },
      "execution_count": 11,
      "outputs": [
        {
          "output_type": "execute_result",
          "data": {
            "text/plain": [
              "array([[ 0,  1,  2,  3,  4],\n",
              "       [ 5,  6,  7,  8,  9],\n",
              "       [10, 11, 12, 13, 14]])"
            ]
          },
          "metadata": {},
          "execution_count": 11
        }
      ]
    },
    {
      "cell_type": "code",
      "source": [
        "print(a.shape)\n",
        "print(a.ndim)\n",
        "print(a.size)\n",
        "print(a.dtype)"
      ],
      "metadata": {
        "colab": {
          "base_uri": "https://localhost:8080/"
        },
        "id": "WPDoh3XlzTNr",
        "outputId": "bef67215-484e-4e83-b9ea-e469809859b9"
      },
      "execution_count": 12,
      "outputs": [
        {
          "output_type": "stream",
          "name": "stdout",
          "text": [
            "(3, 5)\n",
            "2\n",
            "15\n",
            "int64\n"
          ]
        }
      ]
    },
    {
      "cell_type": "code",
      "source": [
        " a = np.arange(20)\n",
        " a = a.reshape(5,4)\n",
        " b = np.arange(20)\n",
        " b = b.reshape(4,5)\n",
        "a@b"
      ],
      "metadata": {
        "colab": {
          "base_uri": "https://localhost:8080/"
        },
        "id": "ryX5yy-10dMC",
        "outputId": "7878461c-72ab-467b-c571-49a706846dd7"
      },
      "execution_count": 16,
      "outputs": [
        {
          "output_type": "execute_result",
          "data": {
            "text/plain": [
              "array([[ 70,  76,  82,  88,  94],\n",
              "       [190, 212, 234, 256, 278],\n",
              "       [310, 348, 386, 424, 462],\n",
              "       [430, 484, 538, 592, 646],\n",
              "       [550, 620, 690, 760, 830]])"
            ]
          },
          "metadata": {},
          "execution_count": 16
        }
      ]
    },
    {
      "cell_type": "code",
      "source": [],
      "metadata": {
        "id": "n7lf_4ye1i3h"
      },
      "execution_count": null,
      "outputs": []
    }
  ]
}